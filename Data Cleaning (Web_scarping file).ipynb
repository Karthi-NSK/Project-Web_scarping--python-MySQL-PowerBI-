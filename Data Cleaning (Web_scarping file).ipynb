{
 "cells": [
  {
   "cell_type": "code",
   "execution_count": 1,
   "id": "ac1b81d8-3ebb-4043-bac0-e9110b8641bd",
   "metadata": {},
   "outputs": [],
   "source": [
    "import pandas as pd\n",
    "import numpy as np\n",
    "import seaborn as sns                       \n",
    "import matplotlib.pyplot as plt"
   ]
  },
  {
   "cell_type": "code",
   "execution_count": 2,
   "id": "5393e155-2cff-46d3-ab88-e2e620da0dac",
   "metadata": {},
   "outputs": [
    {
     "data": {
      "text/html": [
       "<div>\n",
       "<style scoped>\n",
       "    .dataframe tbody tr th:only-of-type {\n",
       "        vertical-align: middle;\n",
       "    }\n",
       "\n",
       "    .dataframe tbody tr th {\n",
       "        vertical-align: top;\n",
       "    }\n",
       "\n",
       "    .dataframe thead th {\n",
       "        text-align: right;\n",
       "    }\n",
       "</style>\n",
       "<table border=\"1\" class=\"dataframe\">\n",
       "  <thead>\n",
       "    <tr style=\"text-align: right;\">\n",
       "      <th></th>\n",
       "      <th>name</th>\n",
       "      <th>year</th>\n",
       "      <th>wins</th>\n",
       "      <th>losses</th>\n",
       "      <th>ot-losses</th>\n",
       "      <th>pct</th>\n",
       "      <th>gf</th>\n",
       "      <th>ga</th>\n",
       "      <th>diff</th>\n",
       "    </tr>\n",
       "  </thead>\n",
       "  <tbody>\n",
       "    <tr>\n",
       "      <th>0</th>\n",
       "      <td>Boston Bruins</td>\n",
       "      <td>1990</td>\n",
       "      <td>44</td>\n",
       "      <td>24</td>\n",
       "      <td>NaN</td>\n",
       "      <td>0.550</td>\n",
       "      <td>299</td>\n",
       "      <td>264</td>\n",
       "      <td>35</td>\n",
       "    </tr>\n",
       "    <tr>\n",
       "      <th>1</th>\n",
       "      <td>Buffalo Sabres</td>\n",
       "      <td>1990</td>\n",
       "      <td>31</td>\n",
       "      <td>30</td>\n",
       "      <td>NaN</td>\n",
       "      <td>0.388</td>\n",
       "      <td>292</td>\n",
       "      <td>278</td>\n",
       "      <td>14</td>\n",
       "    </tr>\n",
       "    <tr>\n",
       "      <th>2</th>\n",
       "      <td>Calgary Flames</td>\n",
       "      <td>1990</td>\n",
       "      <td>46</td>\n",
       "      <td>26</td>\n",
       "      <td>NaN</td>\n",
       "      <td>0.575</td>\n",
       "      <td>344</td>\n",
       "      <td>263</td>\n",
       "      <td>81</td>\n",
       "    </tr>\n",
       "    <tr>\n",
       "      <th>3</th>\n",
       "      <td>Chicago Blackhawks</td>\n",
       "      <td>1990</td>\n",
       "      <td>49</td>\n",
       "      <td>23</td>\n",
       "      <td>NaN</td>\n",
       "      <td>0.613</td>\n",
       "      <td>284</td>\n",
       "      <td>211</td>\n",
       "      <td>73</td>\n",
       "    </tr>\n",
       "    <tr>\n",
       "      <th>4</th>\n",
       "      <td>Detroit Red Wings</td>\n",
       "      <td>1990</td>\n",
       "      <td>34</td>\n",
       "      <td>38</td>\n",
       "      <td>NaN</td>\n",
       "      <td>0.425</td>\n",
       "      <td>273</td>\n",
       "      <td>298</td>\n",
       "      <td>-25</td>\n",
       "    </tr>\n",
       "    <tr>\n",
       "      <th>...</th>\n",
       "      <td>...</td>\n",
       "      <td>...</td>\n",
       "      <td>...</td>\n",
       "      <td>...</td>\n",
       "      <td>...</td>\n",
       "      <td>...</td>\n",
       "      <td>...</td>\n",
       "      <td>...</td>\n",
       "      <td>...</td>\n",
       "    </tr>\n",
       "    <tr>\n",
       "      <th>577</th>\n",
       "      <td>Tampa Bay Lightning</td>\n",
       "      <td>2011</td>\n",
       "      <td>38</td>\n",
       "      <td>36</td>\n",
       "      <td>8.0</td>\n",
       "      <td>0.463</td>\n",
       "      <td>235</td>\n",
       "      <td>281</td>\n",
       "      <td>-46</td>\n",
       "    </tr>\n",
       "    <tr>\n",
       "      <th>578</th>\n",
       "      <td>Toronto Maple Leafs</td>\n",
       "      <td>2011</td>\n",
       "      <td>35</td>\n",
       "      <td>37</td>\n",
       "      <td>10.0</td>\n",
       "      <td>0.427</td>\n",
       "      <td>231</td>\n",
       "      <td>264</td>\n",
       "      <td>-33</td>\n",
       "    </tr>\n",
       "    <tr>\n",
       "      <th>579</th>\n",
       "      <td>Vancouver Canucks</td>\n",
       "      <td>2011</td>\n",
       "      <td>51</td>\n",
       "      <td>22</td>\n",
       "      <td>9.0</td>\n",
       "      <td>0.622</td>\n",
       "      <td>249</td>\n",
       "      <td>198</td>\n",
       "      <td>51</td>\n",
       "    </tr>\n",
       "    <tr>\n",
       "      <th>580</th>\n",
       "      <td>Washington Capitals</td>\n",
       "      <td>2011</td>\n",
       "      <td>42</td>\n",
       "      <td>32</td>\n",
       "      <td>8.0</td>\n",
       "      <td>0.512</td>\n",
       "      <td>222</td>\n",
       "      <td>230</td>\n",
       "      <td>-8</td>\n",
       "    </tr>\n",
       "    <tr>\n",
       "      <th>581</th>\n",
       "      <td>Winnipeg Jets</td>\n",
       "      <td>2011</td>\n",
       "      <td>37</td>\n",
       "      <td>35</td>\n",
       "      <td>10.0</td>\n",
       "      <td>0.451</td>\n",
       "      <td>225</td>\n",
       "      <td>246</td>\n",
       "      <td>-21</td>\n",
       "    </tr>\n",
       "  </tbody>\n",
       "</table>\n",
       "<p>582 rows × 9 columns</p>\n",
       "</div>"
      ],
      "text/plain": [
       "                    name  year  wins  losses  ot-losses    pct   gf   ga  diff\n",
       "0          Boston Bruins  1990    44      24        NaN  0.550  299  264    35\n",
       "1         Buffalo Sabres  1990    31      30        NaN  0.388  292  278    14\n",
       "2         Calgary Flames  1990    46      26        NaN  0.575  344  263    81\n",
       "3     Chicago Blackhawks  1990    49      23        NaN  0.613  284  211    73\n",
       "4      Detroit Red Wings  1990    34      38        NaN  0.425  273  298   -25\n",
       "..                   ...   ...   ...     ...        ...    ...  ...  ...   ...\n",
       "577  Tampa Bay Lightning  2011    38      36        8.0  0.463  235  281   -46\n",
       "578  Toronto Maple Leafs  2011    35      37       10.0  0.427  231  264   -33\n",
       "579    Vancouver Canucks  2011    51      22        9.0  0.622  249  198    51\n",
       "580  Washington Capitals  2011    42      32        8.0  0.512  222  230    -8\n",
       "581        Winnipeg Jets  2011    37      35       10.0  0.451  225  246   -21\n",
       "\n",
       "[582 rows x 9 columns]"
      ]
     },
     "execution_count": 2,
     "metadata": {},
     "output_type": "execute_result"
    }
   ],
   "source": [
    "df= pd.read_excel('Web.xlsx')\n",
    "df"
   ]
  },
  {
   "cell_type": "code",
   "execution_count": 3,
   "id": "16705081-169c-4712-bda0-8ff8bb6a8454",
   "metadata": {},
   "outputs": [
    {
     "name": "stdout",
     "output_type": "stream",
     "text": [
      "<class 'pandas.core.frame.DataFrame'>\n",
      "RangeIndex: 582 entries, 0 to 581\n",
      "Data columns (total 9 columns):\n",
      " #   Column     Non-Null Count  Dtype  \n",
      "---  ------     --------------  -----  \n",
      " 0   name       582 non-null    object \n",
      " 1   year       582 non-null    int64  \n",
      " 2   wins       582 non-null    int64  \n",
      " 3   losses     582 non-null    int64  \n",
      " 4   ot-losses  358 non-null    float64\n",
      " 5   pct        582 non-null    float64\n",
      " 6   gf         582 non-null    int64  \n",
      " 7   ga         582 non-null    int64  \n",
      " 8   diff       582 non-null    int64  \n",
      "dtypes: float64(2), int64(6), object(1)\n",
      "memory usage: 41.1+ KB\n"
     ]
    }
   ],
   "source": [
    "df.info()"
   ]
  },
  {
   "cell_type": "code",
   "execution_count": 4,
   "id": "f79273f5-0e2d-4d31-b16b-3712e51e56fe",
   "metadata": {},
   "outputs": [
    {
     "data": {
      "text/plain": [
       "(582, 9)"
      ]
     },
     "execution_count": 4,
     "metadata": {},
     "output_type": "execute_result"
    }
   ],
   "source": [
    "df.shape"
   ]
  },
  {
   "cell_type": "code",
   "execution_count": 5,
   "id": "8d9ccd2c-a571-4b60-96c7-cf8a5a9a1d07",
   "metadata": {},
   "outputs": [
    {
     "name": "stdout",
     "output_type": "stream",
     "text": [
      "name           0\n",
      "year           0\n",
      "wins           0\n",
      "losses         0\n",
      "ot-losses    224\n",
      "pct            0\n",
      "gf             0\n",
      "ga             0\n",
      "diff           0\n",
      "dtype: int64\n"
     ]
    }
   ],
   "source": [
    "print(df.isnull().sum())"
   ]
  },
  {
   "cell_type": "code",
   "execution_count": 6,
   "id": "c12e7204-2480-4f3b-a1fe-71dc023da4fe",
   "metadata": {},
   "outputs": [
    {
     "data": {
      "text/plain": [
       "name         358\n",
       "year         358\n",
       "wins         358\n",
       "losses       358\n",
       "ot-losses    358\n",
       "pct          358\n",
       "gf           358\n",
       "ga           358\n",
       "diff         358\n",
       "dtype: int64"
      ]
     },
     "execution_count": 6,
     "metadata": {},
     "output_type": "execute_result"
    }
   ],
   "source": [
    "df = df.dropna()\n",
    "df.count()"
   ]
  },
  {
   "cell_type": "code",
   "execution_count": 7,
   "id": "114dbf74-cfc3-4ef3-911e-e12685fe54cd",
   "metadata": {},
   "outputs": [
    {
     "name": "stdout",
     "output_type": "stream",
     "text": [
      "name         0\n",
      "year         0\n",
      "wins         0\n",
      "losses       0\n",
      "ot-losses    0\n",
      "pct          0\n",
      "gf           0\n",
      "ga           0\n",
      "diff         0\n",
      "dtype: int64\n"
     ]
    }
   ],
   "source": [
    "print(df.isnull().sum()) "
   ]
  },
  {
   "cell_type": "code",
   "execution_count": 8,
   "id": "3234e228-807d-45b0-b8d3-c0875cee55a4",
   "metadata": {},
   "outputs": [
    {
     "name": "stdout",
     "output_type": "stream",
     "text": [
      "number of duplicate rows:  (0, 9)\n"
     ]
    }
   ],
   "source": [
    "duplicate_rows_df = df[df.duplicated()]\n",
    "print(\"number of duplicate rows: \", duplicate_rows_df.shape)"
   ]
  },
  {
   "cell_type": "code",
   "execution_count": 9,
   "id": "fac6009e-3c4f-486e-84e4-a7adaf902821",
   "metadata": {},
   "outputs": [
    {
     "data": {
      "text/html": [
       "<div>\n",
       "<style scoped>\n",
       "    .dataframe tbody tr th:only-of-type {\n",
       "        vertical-align: middle;\n",
       "    }\n",
       "\n",
       "    .dataframe tbody tr th {\n",
       "        vertical-align: top;\n",
       "    }\n",
       "\n",
       "    .dataframe thead th {\n",
       "        text-align: right;\n",
       "    }\n",
       "</style>\n",
       "<table border=\"1\" class=\"dataframe\">\n",
       "  <thead>\n",
       "    <tr style=\"text-align: right;\">\n",
       "      <th></th>\n",
       "      <th>year</th>\n",
       "      <th>wins</th>\n",
       "      <th>losses</th>\n",
       "      <th>ot-losses</th>\n",
       "      <th>pct</th>\n",
       "      <th>gf</th>\n",
       "      <th>ga</th>\n",
       "      <th>diff</th>\n",
       "    </tr>\n",
       "  </thead>\n",
       "  <tbody>\n",
       "    <tr>\n",
       "      <th>count</th>\n",
       "      <td>358.000000</td>\n",
       "      <td>358.000000</td>\n",
       "      <td>358.000000</td>\n",
       "      <td>358.000000</td>\n",
       "      <td>358.000000</td>\n",
       "      <td>358.000000</td>\n",
       "      <td>358.000000</td>\n",
       "      <td>358.000000</td>\n",
       "    </tr>\n",
       "    <tr>\n",
       "      <th>mean</th>\n",
       "      <td>2005.117318</td>\n",
       "      <td>38.837989</td>\n",
       "      <td>31.377095</td>\n",
       "      <td>7.460894</td>\n",
       "      <td>0.473609</td>\n",
       "      <td>228.511173</td>\n",
       "      <td>228.511173</td>\n",
       "      <td>0.000000</td>\n",
       "    </tr>\n",
       "    <tr>\n",
       "      <th>std</th>\n",
       "      <td>3.872286</td>\n",
       "      <td>8.067399</td>\n",
       "      <td>7.244450</td>\n",
       "      <td>3.610191</td>\n",
       "      <td>0.098400</td>\n",
       "      <td>26.921270</td>\n",
       "      <td>29.670433</td>\n",
       "      <td>41.202377</td>\n",
       "    </tr>\n",
       "    <tr>\n",
       "      <th>min</th>\n",
       "      <td>1999.000000</td>\n",
       "      <td>14.000000</td>\n",
       "      <td>15.000000</td>\n",
       "      <td>0.000000</td>\n",
       "      <td>0.171000</td>\n",
       "      <td>164.000000</td>\n",
       "      <td>164.000000</td>\n",
       "      <td>-143.000000</td>\n",
       "    </tr>\n",
       "    <tr>\n",
       "      <th>25%</th>\n",
       "      <td>2002.000000</td>\n",
       "      <td>34.000000</td>\n",
       "      <td>27.000000</td>\n",
       "      <td>5.000000</td>\n",
       "      <td>0.415000</td>\n",
       "      <td>211.000000</td>\n",
       "      <td>207.250000</td>\n",
       "      <td>-28.000000</td>\n",
       "    </tr>\n",
       "    <tr>\n",
       "      <th>50%</th>\n",
       "      <td>2006.000000</td>\n",
       "      <td>40.000000</td>\n",
       "      <td>30.000000</td>\n",
       "      <td>7.000000</td>\n",
       "      <td>0.488000</td>\n",
       "      <td>227.000000</td>\n",
       "      <td>227.000000</td>\n",
       "      <td>4.000000</td>\n",
       "    </tr>\n",
       "    <tr>\n",
       "      <th>75%</th>\n",
       "      <td>2008.750000</td>\n",
       "      <td>44.000000</td>\n",
       "      <td>36.000000</td>\n",
       "      <td>10.000000</td>\n",
       "      <td>0.537000</td>\n",
       "      <td>246.750000</td>\n",
       "      <td>248.000000</td>\n",
       "      <td>27.750000</td>\n",
       "    </tr>\n",
       "    <tr>\n",
       "      <th>max</th>\n",
       "      <td>2011.000000</td>\n",
       "      <td>58.000000</td>\n",
       "      <td>57.000000</td>\n",
       "      <td>18.000000</td>\n",
       "      <td>0.707000</td>\n",
       "      <td>318.000000</td>\n",
       "      <td>316.000000</td>\n",
       "      <td>103.000000</td>\n",
       "    </tr>\n",
       "  </tbody>\n",
       "</table>\n",
       "</div>"
      ],
      "text/plain": [
       "              year        wins      losses   ot-losses         pct  \\\n",
       "count   358.000000  358.000000  358.000000  358.000000  358.000000   \n",
       "mean   2005.117318   38.837989   31.377095    7.460894    0.473609   \n",
       "std       3.872286    8.067399    7.244450    3.610191    0.098400   \n",
       "min    1999.000000   14.000000   15.000000    0.000000    0.171000   \n",
       "25%    2002.000000   34.000000   27.000000    5.000000    0.415000   \n",
       "50%    2006.000000   40.000000   30.000000    7.000000    0.488000   \n",
       "75%    2008.750000   44.000000   36.000000   10.000000    0.537000   \n",
       "max    2011.000000   58.000000   57.000000   18.000000    0.707000   \n",
       "\n",
       "               gf          ga        diff  \n",
       "count  358.000000  358.000000  358.000000  \n",
       "mean   228.511173  228.511173    0.000000  \n",
       "std     26.921270   29.670433   41.202377  \n",
       "min    164.000000  164.000000 -143.000000  \n",
       "25%    211.000000  207.250000  -28.000000  \n",
       "50%    227.000000  227.000000    4.000000  \n",
       "75%    246.750000  248.000000   27.750000  \n",
       "max    318.000000  316.000000  103.000000  "
      ]
     },
     "execution_count": 9,
     "metadata": {},
     "output_type": "execute_result"
    }
   ],
   "source": [
    "df.describe()"
   ]
  },
  {
   "cell_type": "code",
   "execution_count": 11,
   "id": "4e6a2156-3544-4ba6-a5e0-21d46ce946d6",
   "metadata": {},
   "outputs": [
    {
     "data": {
      "image/png": "[encoded data removed]",
      "text/plain": [
       "<Figure size 640x480 with 1 Axes>"
      ]
     },
     "metadata": {},
     "output_type": "display_data"
    },
    {
     "data": {
      "text/plain": [
       "<Figure size 2000x2000 with 0 Axes>"
      ]
     },
     "execution_count": 11,
     "metadata": {},
     "output_type": "execute_result"
    },
    {
     "data": {
      "text/plain": [
       "<Figure size 2000x2000 with 0 Axes>"
      ]
     },
     "metadata": {},
     "output_type": "display_data"
    }
   ],
   "source": [
    "sns.boxplot(data=df,y='year')\n",
    "plt.show()\n",
    "plt.figure(figsize=(20,20))"
   ]
  },
  {
   "cell_type": "code",
   "execution_count": 13,
   "id": "8c3cd6a4-8e36-437c-9c44-92494b26bb2e",
   "metadata": {},
   "outputs": [
    {
     "data": {
      "image/png": "[encoded data removed]",
      "text/plain": [
       "<Figure size 640x480 with 1 Axes>"
      ]
     },
     "metadata": {},
     "output_type": "display_data"
    },
    {
     "data": {
      "text/plain": [
       "<Figure size 2000x2000 with 0 Axes>"
      ]
     },
     "execution_count": 13,
     "metadata": {},
     "output_type": "execute_result"
    },
    {
     "data": {
      "text/plain": [
       "<Figure size 2000x2000 with 0 Axes>"
      ]
     },
     "metadata": {},
     "output_type": "display_data"
    }
   ],
   "source": [
    "sns.boxplot(data=df,y='wins')\n",
    "plt.show()\n",
    "plt.figure(figsize=(20,20))"
   ]
  },
  {
   "cell_type": "code",
   "execution_count": 21,
   "id": "8811d6ba-2b58-4386-927d-5f6eab941d04",
   "metadata": {},
   "outputs": [
    {
     "name": "stdout",
     "output_type": "stream",
     "text": [
      "10.0\n"
     ]
    }
   ],
   "source": [
    "seventy_fifth=df['wins'].quantile(0.75)\n",
    "# 25th percentile\n",
    "twenty_fifth=df['wins'].quantile(0.25)\n",
    "#Interquartile range\n",
    "profit_IQR=seventy_fifth-twenty_fifth\n",
    "print(profit_IQR)"
   ]
  },
  {
   "cell_type": "code",
   "execution_count": 22,
   "id": "0330a762-a1a7-4104-9ab8-8ed8aedd5558",
   "metadata": {},
   "outputs": [
    {
     "name": "stdout",
     "output_type": "stream",
     "text": [
      "59.0 19.0\n"
     ]
    }
   ],
   "source": [
    "# Upper threshold\n",
    "upper = seventy_fifth + (1.5 * profit_IQR)\n",
    "# Lower threshold\n",
    "lower = twenty_fifth - (1.5 * profit_IQR)\n",
    "print(upper, lower)"
   ]
  },
  {
   "cell_type": "code",
   "execution_count": 23,
   "id": "4e63c6f8-4e6e-47c2-a798-4a9f2a318386",
   "metadata": {},
   "outputs": [],
   "source": [
    "df1=df[(df['wins']>lower) & (df['wins'] <upper)]"
   ]
  },
  {
   "cell_type": "code",
   "execution_count": 24,
   "id": "6310824d-6db1-439d-a493-c66a2ba719b5",
   "metadata": {},
   "outputs": [
    {
     "data": {
      "image/png": "[encoded data removed]",
      "text/plain": [
       "<Figure size 640x480 with 1 Axes>"
      ]
     },
     "metadata": {},
     "output_type": "display_data"
    },
    {
     "data": {
      "text/plain": [
       "<Figure size 400x400 with 0 Axes>"
      ]
     },
     "metadata": {},
     "output_type": "display_data"
    }
   ],
   "source": [
    "sns.boxplot(data=df1,y='wins')\n",
    "plt.figure(figsize=(4,4))\n",
    "plt.show()"
   ]
  },
  {
   "cell_type": "code",
   "execution_count": 14,
   "id": "49142686-4a39-490b-b1aa-f2cb9b565694",
   "metadata": {},
   "outputs": [
    {
     "data": {
      "image/png": "[encoded data removed]",
      "text/plain": [
       "<Figure size 640x480 with 1 Axes>"
      ]
     },
     "metadata": {},
     "output_type": "display_data"
    },
    {
     "data": {
      "text/plain": [
       "<Figure size 2000x2000 with 0 Axes>"
      ]
     },
     "execution_count": 14,
     "metadata": {},
     "output_type": "execute_result"
    },
    {
     "data": {
      "text/plain": [
       "<Figure size 2000x2000 with 0 Axes>"
      ]
     },
     "metadata": {},
     "output_type": "display_data"
    }
   ],
   "source": [
    "sns.boxplot(data=df,y='losses')\n",
    "plt.show()\n",
    "plt.figure(figsize=(20,20))"
   ]
  },
  {
   "cell_type": "code",
   "execution_count": 25,
   "id": "fc53626d-07d4-4e8b-a2ec-3b66cbf3e4f2",
   "metadata": {},
   "outputs": [
    {
     "name": "stdout",
     "output_type": "stream",
     "text": [
      "9.0\n"
     ]
    }
   ],
   "source": [
    "seventy_fifth=df['losses'].quantile(0.75)\n",
    "# 25th percentile\n",
    "twenty_fifth=df['losses'].quantile(0.25)\n",
    "#Interquartile range\n",
    "profit_IQR=seventy_fifth-twenty_fifth\n",
    "print(profit_IQR)"
   ]
  },
  {
   "cell_type": "code",
   "execution_count": 26,
   "id": "ce727711-fadd-4b85-8da4-a1692333345d",
   "metadata": {},
   "outputs": [
    {
     "name": "stdout",
     "output_type": "stream",
     "text": [
      "49.5 13.5\n"
     ]
    }
   ],
   "source": [
    "# Upper threshold\n",
    "upper = seventy_fifth + (1.5 * profit_IQR)\n",
    "# Lower threshold\n",
    "lower = twenty_fifth - (1.5 * profit_IQR)\n",
    "print(upper, lower)"
   ]
  },
  {
   "cell_type": "code",
   "execution_count": 27,
   "id": "e5bcd924-09df-4e7a-a3c4-e08c40ba049f",
   "metadata": {},
   "outputs": [],
   "source": [
    "df1=df[(df['losses']>lower) & (df['losses'] <upper)]"
   ]
  },
  {
   "cell_type": "code",
   "execution_count": 28,
   "id": "9d4a48c9-894e-4033-83c5-dcef0b4820ee",
   "metadata": {},
   "outputs": [
    {
     "data": {
      "image/png": "[encoded data removed]",
      "text/plain": [
       "<Figure size 640x480 with 1 Axes>"
      ]
     },
     "metadata": {},
     "output_type": "display_data"
    },
    {
     "data": {
      "text/plain": [
       "<Figure size 400x400 with 0 Axes>"
      ]
     },
     "metadata": {},
     "output_type": "display_data"
    }
   ],
   "source": [
    "# boxplot after removing outliers\n",
    "sns.boxplot(data=df1,y='losses')\n",
    "plt.figure(figsize=(4,4))\n",
    "plt.show()"
   ]
  },
  {
   "cell_type": "code",
   "execution_count": 15,
   "id": "fe551bc7-6468-4ad9-b530-5b902c22f9e6",
   "metadata": {},
   "outputs": [
    {
     "data": {
      "image/png": "[encoded data removed]",
      "text/plain": [
       "<Figure size 640x480 with 1 Axes>"
      ]
     },
     "metadata": {},
     "output_type": "display_data"
    },
    {
     "data": {
      "text/plain": [
       "<Figure size 2000x2000 with 0 Axes>"
      ]
     },
     "execution_count": 15,
     "metadata": {},
     "output_type": "execute_result"
    },
    {
     "data": {
      "text/plain": [
       "<Figure size 2000x2000 with 0 Axes>"
      ]
     },
     "metadata": {},
     "output_type": "display_data"
    }
   ],
   "source": [
    "sns.boxplot(data=df,y='ot-losses')\n",
    "plt.show()\n",
    "plt.figure(figsize=(20,20))"
   ]
  },
  {
   "cell_type": "code",
   "execution_count": 35,
   "id": "25cabf1d-b730-43a3-8bcc-5cc43743dbef",
   "metadata": {},
   "outputs": [
    {
     "name": "stdout",
     "output_type": "stream",
     "text": [
      "5.0\n"
     ]
    }
   ],
   "source": [
    "seventy_fifth=df['ot-losses'].quantile(0.75)\n",
    "# 25th percentile\n",
    "twenty_fifth=df['ot-losses'].quantile(0.25)\n",
    "#Interquartile range\n",
    "profit_IQR=seventy_fifth-twenty_fifth\n",
    "print(profit_IQR)"
   ]
  },
  {
   "cell_type": "code",
   "execution_count": 36,
   "id": "86aa56e5-4f08-4ec5-bf5a-69b611888182",
   "metadata": {},
   "outputs": [
    {
     "name": "stdout",
     "output_type": "stream",
     "text": [
      "17.5 -2.5\n"
     ]
    }
   ],
   "source": [
    "# Upper threshold\n",
    "upper = seventy_fifth + (1.5 * profit_IQR)\n",
    "# Lower threshold\n",
    "lower = twenty_fifth - (1.5 * profit_IQR)\n",
    "print(upper, lower)"
   ]
  },
  {
   "cell_type": "code",
   "execution_count": 37,
   "id": "335e0b81-a242-4710-a79d-90a35cfce772",
   "metadata": {},
   "outputs": [],
   "source": [
    "df1=df[(df['ot-losses']>lower) & (df['ot-losses'] <upper)]"
   ]
  },
  {
   "cell_type": "code",
   "execution_count": 38,
   "id": "0d53e0e6-eecc-4c24-9496-956f8ba596d8",
   "metadata": {},
   "outputs": [
    {
     "data": {
      "image/png": "[encoded data removed]",
      "text/plain": [
       "<Figure size 640x480 with 1 Axes>"
      ]
     },
     "metadata": {},
     "output_type": "display_data"
    },
    {
     "data": {
      "text/plain": [
       "<Figure size 400x400 with 0 Axes>"
      ]
     },
     "metadata": {},
     "output_type": "display_data"
    }
   ],
   "source": [
    "# boxplot after removing outliers\n",
    "sns.boxplot(data=df1,y='ot-losses')\n",
    "plt.figure(figsize=(4,4))\n",
    "plt.show()"
   ]
  },
  {
   "cell_type": "code",
   "execution_count": 16,
   "id": "6ab4b207-fd7b-46a8-a425-8df8d25369f2",
   "metadata": {},
   "outputs": [
    {
     "data": {
      "image/png": "[encoded data removed]",
      "text/plain": [
       "<Figure size 640x480 with 1 Axes>"
      ]
     },
     "metadata": {},
     "output_type": "display_data"
    },
    {
     "data": {
      "text/plain": [
       "<Figure size 2000x2000 with 0 Axes>"
      ]
     },
     "execution_count": 16,
     "metadata": {},
     "output_type": "execute_result"
    },
    {
     "data": {
      "text/plain": [
       "<Figure size 2000x2000 with 0 Axes>"
      ]
     },
     "metadata": {},
     "output_type": "display_data"
    }
   ],
   "source": [
    "sns.boxplot(data=df,y='pct')\n",
    "plt.show()\n",
    "plt.figure(figsize=(20,20))"
   ]
  },
  {
   "cell_type": "code",
   "execution_count": 39,
   "id": "8af4d39f-3513-42ff-8187-31ee05ba2b37",
   "metadata": {},
   "outputs": [
    {
     "name": "stdout",
     "output_type": "stream",
     "text": [
      "0.12200000000000005\n"
     ]
    }
   ],
   "source": [
    "seventy_fifth=df['pct'].quantile(0.75)\n",
    "# 25th percentile\n",
    "twenty_fifth=df['pct'].quantile(0.25)\n",
    "#Interquartile range\n",
    "profit_IQR=seventy_fifth-twenty_fifth\n",
    "print(profit_IQR)"
   ]
  },
  {
   "cell_type": "code",
   "execution_count": 40,
   "id": "1698d1bc-3cff-421b-8525-14b3f88e7d96",
   "metadata": {},
   "outputs": [
    {
     "name": "stdout",
     "output_type": "stream",
     "text": [
      "0.7200000000000001 0.2319999999999999\n"
     ]
    }
   ],
   "source": [
    "# Upper threshold\n",
    "upper = seventy_fifth + (1.5 * profit_IQR)\n",
    "# Lower threshold\n",
    "lower = twenty_fifth - (1.5 * profit_IQR)\n",
    "print(upper, lower)"
   ]
  },
  {
   "cell_type": "code",
   "execution_count": 42,
   "id": "53296a9b-01ff-41d4-83c3-a1641c44001a",
   "metadata": {},
   "outputs": [],
   "source": [
    "df1=df[(df['pct']>lower) & (df['pct'] <upper)]"
   ]
  },
  {
   "cell_type": "code",
   "execution_count": 43,
   "id": "66124f49-27f1-40c9-886b-9e1b09bb9917",
   "metadata": {},
   "outputs": [
    {
     "data": {
      "image/png": "[encoded data removed]",
      "text/plain": [
       "<Figure size 640x480 with 1 Axes>"
      ]
     },
     "metadata": {},
     "output_type": "display_data"
    },
    {
     "data": {
      "text/plain": [
       "<Figure size 400x400 with 0 Axes>"
      ]
     },
     "metadata": {},
     "output_type": "display_data"
    }
   ],
   "source": [
    "# boxplot after removing outliers\n",
    "sns.boxplot(data=df1,y='pct')\n",
    "plt.figure(figsize=(4,4))\n",
    "plt.show()"
   ]
  },
  {
   "cell_type": "code",
   "execution_count": 17,
   "id": "806f3353-b32c-43c1-9dc5-1e943bc2c9d6",
   "metadata": {},
   "outputs": [
    {
     "data": {
      "image/png": "[encoded data removed]",
      "text/plain": [
       "<Figure size 640x480 with 1 Axes>"
      ]
     },
     "metadata": {},
     "output_type": "display_data"
    },
    {
     "data": {
      "text/plain": [
       "<Figure size 2000x2000 with 0 Axes>"
      ]
     },
     "execution_count": 17,
     "metadata": {},
     "output_type": "execute_result"
    },
    {
     "data": {
      "text/plain": [
       "<Figure size 2000x2000 with 0 Axes>"
      ]
     },
     "metadata": {},
     "output_type": "display_data"
    }
   ],
   "source": [
    "sns.boxplot(data=df,y='gf')\n",
    "plt.show()\n",
    "plt.figure(figsize=(20,20))"
   ]
  },
  {
   "cell_type": "code",
   "execution_count": 44,
   "id": "b96fae4d-c0ff-4092-b261-1223b17c6a5a",
   "metadata": {},
   "outputs": [
    {
     "name": "stdout",
     "output_type": "stream",
     "text": [
      "35.75\n"
     ]
    }
   ],
   "source": [
    "seventy_fifth=df['gf'].quantile(0.75)\n",
    "# 25th percentile\n",
    "twenty_fifth=df['gf'].quantile(0.25)\n",
    "#Interquartile range\n",
    "profit_IQR=seventy_fifth-twenty_fifth\n",
    "print(profit_IQR)"
   ]
  },
  {
   "cell_type": "code",
   "execution_count": 45,
   "id": "9f986b6c-7adc-4370-a38f-4bf47e418f47",
   "metadata": {},
   "outputs": [
    {
     "name": "stdout",
     "output_type": "stream",
     "text": [
      "300.375 157.375\n"
     ]
    }
   ],
   "source": [
    "# Upper threshold\n",
    "upper = seventy_fifth + (1.5 * profit_IQR)\n",
    "# Lower threshold\n",
    "lower = twenty_fifth - (1.5 * profit_IQR)\n",
    "print(upper, lower)"
   ]
  },
  {
   "cell_type": "code",
   "execution_count": 46,
   "id": "a3a660f2-60f0-44ee-80bd-367dd683a91c",
   "metadata": {},
   "outputs": [],
   "source": [
    "df1=df[(df['gf']>lower) & (df['gf'] <upper)]"
   ]
  },
  {
   "cell_type": "code",
   "execution_count": 47,
   "id": "7d692b29-bff4-412b-b79c-634e586941ed",
   "metadata": {},
   "outputs": [
    {
     "data": {
      "image/png": "[encoded data removed]",
      "text/plain": [
       "<Figure size 640x480 with 1 Axes>"
      ]
     },
     "metadata": {},
     "output_type": "display_data"
    },
    {
     "data": {
      "text/plain": [
       "<Figure size 400x400 with 0 Axes>"
      ]
     },
     "metadata": {},
     "output_type": "display_data"
    }
   ],
   "source": [
    "sns.boxplot(data=df1,y='gf')\n",
    "plt.figure(figsize=(4,4))\n",
    "plt.show()"
   ]
  },
  {
   "cell_type": "code",
   "execution_count": 18,
   "id": "2bda1177-d684-4dc7-b1a4-1ed03e9d80be",
   "metadata": {},
   "outputs": [
    {
     "data": {
      "image/png": "[encoded data removed]",
      "text/plain": [
       "<Figure size 640x480 with 1 Axes>"
      ]
     },
     "metadata": {},
     "output_type": "display_data"
    },
    {
     "data": {
      "text/plain": [
       "<Figure size 2000x2000 with 0 Axes>"
      ]
     },
     "execution_count": 18,
     "metadata": {},
     "output_type": "execute_result"
    },
    {
     "data": {
      "text/plain": [
       "<Figure size 2000x2000 with 0 Axes>"
      ]
     },
     "metadata": {},
     "output_type": "display_data"
    }
   ],
   "source": [
    "sns.boxplot(data=df,y='ga')\n",
    "plt.show()\n",
    "plt.figure(figsize=(20,20))"
   ]
  },
  {
   "cell_type": "code",
   "execution_count": 48,
   "id": "3915d87a-4355-48d0-ac4b-9b1a060b8f0c",
   "metadata": {},
   "outputs": [
    {
     "name": "stdout",
     "output_type": "stream",
     "text": [
      "40.75\n"
     ]
    }
   ],
   "source": [
    "seventy_fifth=df['ga'].quantile(0.75)\n",
    "# 25th percentile\n",
    "twenty_fifth=df['ga'].quantile(0.25)\n",
    "#Interquartile range\n",
    "profit_IQR=seventy_fifth-twenty_fifth\n",
    "print(profit_IQR)"
   ]
  },
  {
   "cell_type": "code",
   "execution_count": 49,
   "id": "c2931786-1c54-4a0d-a045-1d6f0a38529c",
   "metadata": {},
   "outputs": [
    {
     "name": "stdout",
     "output_type": "stream",
     "text": [
      "309.125 146.125\n"
     ]
    }
   ],
   "source": [
    "# Upper threshold\n",
    "upper = seventy_fifth + (1.5 * profit_IQR)\n",
    "# Lower threshold\n",
    "lower = twenty_fifth - (1.5 * profit_IQR)\n",
    "print(upper, lower)"
   ]
  },
  {
   "cell_type": "code",
   "execution_count": 50,
   "id": "3ec4445a-ab03-4490-a4c2-57526a04087d",
   "metadata": {},
   "outputs": [],
   "source": [
    "df1=df[(df['ga']>lower) & (df['ga'] <upper)]"
   ]
  },
  {
   "cell_type": "code",
   "execution_count": 51,
   "id": "2c72e280-4030-4440-9513-c5ed718bbe7c",
   "metadata": {},
   "outputs": [
    {
     "data": {
      "image/png": "[encoded data removed]",
      "text/plain": [
       "<Figure size 640x480 with 1 Axes>"
      ]
     },
     "metadata": {},
     "output_type": "display_data"
    },
    {
     "data": {
      "text/plain": [
       "<Figure size 400x400 with 0 Axes>"
      ]
     },
     "metadata": {},
     "output_type": "display_data"
    }
   ],
   "source": [
    "# boxplot after removing outliers\n",
    "sns.boxplot(data=df1,y='ga')\n",
    "plt.figure(figsize=(4,4))\n",
    "plt.show()"
   ]
  },
  {
   "cell_type": "code",
   "execution_count": 19,
   "id": "97e5c2c6-b9cd-4e40-9849-e49859dae17e",
   "metadata": {},
   "outputs": [
    {
     "data": {
      "image/png": "[encoded data removed]",
      "text/plain": [
       "<Figure size 640x480 with 1 Axes>"
      ]
     },
     "metadata": {},
     "output_type": "display_data"
    },
    {
     "data": {
      "text/plain": [
       "<Figure size 2000x2000 with 0 Axes>"
      ]
     },
     "execution_count": 19,
     "metadata": {},
     "output_type": "execute_result"
    },
    {
     "data": {
      "text/plain": [
       "<Figure size 2000x2000 with 0 Axes>"
      ]
     },
     "metadata": {},
     "output_type": "display_data"
    }
   ],
   "source": [
    "sns.boxplot(data=df,y='diff')\n",
    "plt.show()\n",
    "plt.figure(figsize=(20,20))"
   ]
  },
  {
   "cell_type": "code",
   "execution_count": 52,
   "id": "8193baf5-5928-4a29-b9c6-0c5ac5a3c950",
   "metadata": {},
   "outputs": [
    {
     "name": "stdout",
     "output_type": "stream",
     "text": [
      "55.75\n"
     ]
    }
   ],
   "source": [
    "seventy_fifth=df['diff'].quantile(0.75)\n",
    "# 25th percentile\n",
    "twenty_fifth=df['diff'].quantile(0.25)\n",
    "#Interquartile range\n",
    "profit_IQR=seventy_fifth-twenty_fifth\n",
    "print(profit_IQR)"
   ]
  },
  {
   "cell_type": "code",
   "execution_count": 53,
   "id": "9bdcafc7-bd14-42ab-bfe1-d9634f5f3cb1",
   "metadata": {},
   "outputs": [
    {
     "name": "stdout",
     "output_type": "stream",
     "text": [
      "111.375 -111.625\n"
     ]
    }
   ],
   "source": [
    "# Upper threshold\n",
    "upper = seventy_fifth + (1.5 * profit_IQR)\n",
    "# Lower threshold\n",
    "lower = twenty_fifth - (1.5 * profit_IQR)\n",
    "print(upper, lower)"
   ]
  },
  {
   "cell_type": "code",
   "execution_count": 54,
   "id": "1545c5f6-1401-48fc-9372-469923107f5e",
   "metadata": {},
   "outputs": [],
   "source": [
    "df1=df[(df['diff']>lower) & (df['diff'] <upper)]"
   ]
  },
  {
   "cell_type": "code",
   "execution_count": 55,
   "id": "11ff2f51-6bf1-466d-a60f-704fc292ae93",
   "metadata": {},
   "outputs": [
    {
     "data": {
      "image/png": "[encoded data removed]",
      "text/plain": [
       "<Figure size 640x480 with 1 Axes>"
      ]
     },
     "metadata": {},
     "output_type": "display_data"
    },
    {
     "data": {
      "text/plain": [
       "<Figure size 400x400 with 0 Axes>"
      ]
     },
     "metadata": {},
     "output_type": "display_data"
    }
   ],
   "source": [
    "# boxplot after removing outliers\n",
    "sns.boxplot(data=df1,y='diff')\n",
    "plt.figure(figsize=(4,4))\n",
    "plt.show()"
   ]
  },
  {
   "cell_type": "markdown",
   "id": "4c3a6269-335c-44a7-9e35-572f9174c36a",
   "metadata": {},
   "source": [
    "# Statistical Analysis"
   ]
  },
  {
   "cell_type": "code",
   "execution_count": 56,
   "id": "5b538c73-4416-4b6c-b58b-84972d780412",
   "metadata": {},
   "outputs": [],
   "source": [
    "import scipy.stats as stats\n",
    "import numpy as np"
   ]
  },
  {
   "cell_type": "code",
   "execution_count": 60,
   "id": "aacc0ca9-dc36-43e0-b8ec-de1b6fe8efb0",
   "metadata": {},
   "outputs": [
    {
     "data": {
      "image/png": "[encoded data removed]",
      "text/plain": [
       "<Figure size 500x300 with 2 Axes>"
      ]
     },
     "metadata": {},
     "output_type": "display_data"
    }
   ],
   "source": [
    "# select specfic columns\n",
    "selected_columns =['year','wins','losses','ot-losses','pct','gf','ga','diff']\n",
    "df_selected = df[selected_columns]\n",
    "\n",
    "#compute the correlation matrix(if needed)\n",
    "correlation_matrix = df_selected.corr()\n",
    "\n",
    "#plot the heatmap\n",
    "plt.figure(figsize=(5,3))\n",
    "sns.heatmap(correlation_matrix,annot=True,cmap='coolwarm',linewidth=.5,fmt='.2f')\n",
    "plt.title('Heatmap of three columns')\n",
    "plt.show()"
   ]
  },
  {
   "cell_type": "code",
   "execution_count": 64,
   "id": "af68747a-944a-4585-9915-cce2cd24a532",
   "metadata": {},
   "outputs": [
    {
     "name": "stdout",
     "output_type": "stream",
     "text": [
      "T-test statistic: -55.90640629109821, p-value: 5.042208851656008e-263\n"
     ]
    }
   ],
   "source": [
    "from scipy.stats import ttest_ind\n",
    "\n",
    "# T-test\n",
    "#pvalue = 0.05\n",
    "t_stat, p_value = ttest_ind(df['ot-losses'], df['losses'])\n",
    "print(f'T-test statistic: {t_stat}, p-value: {p_value}')"
   ]
  },
  {
   "cell_type": "markdown",
   "id": "0fc3e939-e999-49b9-8698-18198e7f3d05",
   "metadata": {},
   "source": [
    "# Inference \n",
    "H0 = The Mean values ot-losses and losses are equal\n",
    "H1= The Mean values of ot-losses and losses not equal \n",
    "Results: \n",
    "-We have enough evidence to reject null Hypothesis[Low p-value]\n",
    "\n"
   ]
  },
  {
   "cell_type": "code",
   "execution_count": 67,
   "id": "b5cc7e4f-1e9f-4231-a186-6b7799e94fad",
   "metadata": {},
   "outputs": [],
   "source": [
    "df =pd.DataFrame(df)"
   ]
  },
  {
   "cell_type": "code",
   "execution_count": 68,
   "id": "7ed2fa1c-9271-4b4d-adb2-20e467eae821",
   "metadata": {},
   "outputs": [
    {
     "data": {
      "text/html": [
       "<div>\n",
       "<style scoped>\n",
       "    .dataframe tbody tr th:only-of-type {\n",
       "        vertical-align: middle;\n",
       "    }\n",
       "\n",
       "    .dataframe tbody tr th {\n",
       "        vertical-align: top;\n",
       "    }\n",
       "\n",
       "    .dataframe thead th {\n",
       "        text-align: right;\n",
       "    }\n",
       "</style>\n",
       "<table border=\"1\" class=\"dataframe\">\n",
       "  <thead>\n",
       "    <tr style=\"text-align: right;\">\n",
       "      <th></th>\n",
       "      <th>name</th>\n",
       "      <th>year</th>\n",
       "      <th>wins</th>\n",
       "      <th>losses</th>\n",
       "      <th>ot-losses</th>\n",
       "      <th>pct</th>\n",
       "      <th>gf</th>\n",
       "      <th>ga</th>\n",
       "      <th>diff</th>\n",
       "    </tr>\n",
       "  </thead>\n",
       "  <tbody>\n",
       "    <tr>\n",
       "      <th>224</th>\n",
       "      <td>Mighty Ducks of Anaheim</td>\n",
       "      <td>1999</td>\n",
       "      <td>34</td>\n",
       "      <td>33</td>\n",
       "      <td>3.0</td>\n",
       "      <td>0.415</td>\n",
       "      <td>217</td>\n",
       "      <td>227</td>\n",
       "      <td>-10</td>\n",
       "    </tr>\n",
       "    <tr>\n",
       "      <th>225</th>\n",
       "      <td>Atlanta Thrashers</td>\n",
       "      <td>1999</td>\n",
       "      <td>14</td>\n",
       "      <td>57</td>\n",
       "      <td>4.0</td>\n",
       "      <td>0.171</td>\n",
       "      <td>170</td>\n",
       "      <td>313</td>\n",
       "      <td>-143</td>\n",
       "    </tr>\n",
       "    <tr>\n",
       "      <th>226</th>\n",
       "      <td>Boston Bruins</td>\n",
       "      <td>1999</td>\n",
       "      <td>24</td>\n",
       "      <td>33</td>\n",
       "      <td>6.0</td>\n",
       "      <td>0.293</td>\n",
       "      <td>210</td>\n",
       "      <td>248</td>\n",
       "      <td>-38</td>\n",
       "    </tr>\n",
       "    <tr>\n",
       "      <th>227</th>\n",
       "      <td>Buffalo Sabres</td>\n",
       "      <td>1999</td>\n",
       "      <td>35</td>\n",
       "      <td>32</td>\n",
       "      <td>4.0</td>\n",
       "      <td>0.427</td>\n",
       "      <td>213</td>\n",
       "      <td>204</td>\n",
       "      <td>9</td>\n",
       "    </tr>\n",
       "    <tr>\n",
       "      <th>228</th>\n",
       "      <td>Calgary Flames</td>\n",
       "      <td>1999</td>\n",
       "      <td>31</td>\n",
       "      <td>36</td>\n",
       "      <td>5.0</td>\n",
       "      <td>0.378</td>\n",
       "      <td>211</td>\n",
       "      <td>256</td>\n",
       "      <td>-45</td>\n",
       "    </tr>\n",
       "    <tr>\n",
       "      <th>...</th>\n",
       "      <td>...</td>\n",
       "      <td>...</td>\n",
       "      <td>...</td>\n",
       "      <td>...</td>\n",
       "      <td>...</td>\n",
       "      <td>...</td>\n",
       "      <td>...</td>\n",
       "      <td>...</td>\n",
       "      <td>...</td>\n",
       "    </tr>\n",
       "    <tr>\n",
       "      <th>577</th>\n",
       "      <td>Tampa Bay Lightning</td>\n",
       "      <td>2011</td>\n",
       "      <td>38</td>\n",
       "      <td>36</td>\n",
       "      <td>8.0</td>\n",
       "      <td>0.463</td>\n",
       "      <td>235</td>\n",
       "      <td>281</td>\n",
       "      <td>-46</td>\n",
       "    </tr>\n",
       "    <tr>\n",
       "      <th>578</th>\n",
       "      <td>Toronto Maple Leafs</td>\n",
       "      <td>2011</td>\n",
       "      <td>35</td>\n",
       "      <td>37</td>\n",
       "      <td>10.0</td>\n",
       "      <td>0.427</td>\n",
       "      <td>231</td>\n",
       "      <td>264</td>\n",
       "      <td>-33</td>\n",
       "    </tr>\n",
       "    <tr>\n",
       "      <th>579</th>\n",
       "      <td>Vancouver Canucks</td>\n",
       "      <td>2011</td>\n",
       "      <td>51</td>\n",
       "      <td>22</td>\n",
       "      <td>9.0</td>\n",
       "      <td>0.622</td>\n",
       "      <td>249</td>\n",
       "      <td>198</td>\n",
       "      <td>51</td>\n",
       "    </tr>\n",
       "    <tr>\n",
       "      <th>580</th>\n",
       "      <td>Washington Capitals</td>\n",
       "      <td>2011</td>\n",
       "      <td>42</td>\n",
       "      <td>32</td>\n",
       "      <td>8.0</td>\n",
       "      <td>0.512</td>\n",
       "      <td>222</td>\n",
       "      <td>230</td>\n",
       "      <td>-8</td>\n",
       "    </tr>\n",
       "    <tr>\n",
       "      <th>581</th>\n",
       "      <td>Winnipeg Jets</td>\n",
       "      <td>2011</td>\n",
       "      <td>37</td>\n",
       "      <td>35</td>\n",
       "      <td>10.0</td>\n",
       "      <td>0.451</td>\n",
       "      <td>225</td>\n",
       "      <td>246</td>\n",
       "      <td>-21</td>\n",
       "    </tr>\n",
       "  </tbody>\n",
       "</table>\n",
       "<p>358 rows × 9 columns</p>\n",
       "</div>"
      ],
      "text/plain": [
       "                        name  year  wins  losses  ot-losses    pct   gf   ga  \\\n",
       "224  Mighty Ducks of Anaheim  1999    34      33        3.0  0.415  217  227   \n",
       "225        Atlanta Thrashers  1999    14      57        4.0  0.171  170  313   \n",
       "226            Boston Bruins  1999    24      33        6.0  0.293  210  248   \n",
       "227           Buffalo Sabres  1999    35      32        4.0  0.427  213  204   \n",
       "228           Calgary Flames  1999    31      36        5.0  0.378  211  256   \n",
       "..                       ...   ...   ...     ...        ...    ...  ...  ...   \n",
       "577      Tampa Bay Lightning  2011    38      36        8.0  0.463  235  281   \n",
       "578      Toronto Maple Leafs  2011    35      37       10.0  0.427  231  264   \n",
       "579        Vancouver Canucks  2011    51      22        9.0  0.622  249  198   \n",
       "580      Washington Capitals  2011    42      32        8.0  0.512  222  230   \n",
       "581            Winnipeg Jets  2011    37      35       10.0  0.451  225  246   \n",
       "\n",
       "     diff  \n",
       "224   -10  \n",
       "225  -143  \n",
       "226   -38  \n",
       "227     9  \n",
       "228   -45  \n",
       "..    ...  \n",
       "577   -46  \n",
       "578   -33  \n",
       "579    51  \n",
       "580    -8  \n",
       "581   -21  \n",
       "\n",
       "[358 rows x 9 columns]"
      ]
     },
     "execution_count": 68,
     "metadata": {},
     "output_type": "execute_result"
    }
   ],
   "source": [
    "df.to_csv('Web_Scarping.csv')\n",
    "df"
   ]
  },
  {
   "cell_type": "code",
   "execution_count": null,
   "id": "493f26e8-a595-4b76-9d0b-f7b5fccf4c5a",
   "metadata": {},
   "outputs": [],
   "source": []
  }
 ],
 "metadata": {
  "kernelspec": {
   "display_name": "Python 3 (ipykernel)",
   "language": "python",
   "name": "python3"
  },
  "language_info": {
   "codemirror_mode": {
    "name": "ipython",
    "version": 3
   },
   "file_extension": ".py",
   "mimetype": "text/x-python",
   "name": "python",
   "nbconvert_exporter": "python",
   "pygments_lexer": "ipython3",
   "version": "3.11.7"
  }
 },
 "nbformat": 4,
 "nbformat_minor": 5
}
